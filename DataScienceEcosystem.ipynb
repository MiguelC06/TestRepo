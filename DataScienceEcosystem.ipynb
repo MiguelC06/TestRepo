{
 "cells": [
  {
   "cell_type": "markdown",
   "id": "cc5a1859-f22b-4cb1-8534-6033240a760b",
   "metadata": {},
   "source": [
    "# Data science Tools and Ecosystem  "
   ]
  },
  {
   "cell_type": "markdown",
   "id": "3aff7c6c-26cd-4b7e-b4e9-609bae6fb9d9",
   "metadata": {},
   "source": [
    "## Autor\n",
    "Miguel Concepcion."
   ]
  },
  {
   "cell_type": "markdown",
   "id": "8af7d3d4-0ac4-4137-aa1f-c656647009ba",
   "metadata": {},
   "source": [
    "# En este cuaderno, se resumen las herramientas y ecosistemas de ciencia de datos."
   ]
  },
  {
   "cell_type": "markdown",
   "id": "55aa3f0c-6a5b-40d6-9133-df4972513e6a",
   "metadata": {},
   "source": [
    "**Objetivos:**\n",
    "\n",
    "- Listar lenguajes populares para Ciencia de Datos\n",
    "- Comprender conceptos básicos de programación en Python\n",
    "- Listar algunas de las bibliotecas usadas en la ciencia de datos.\n",
    "- Visualizar datos con Matplotlib y Seaborn\n",
    "- Presentar ejemplos."
   ]
  },
  {
   "cell_type": "markdown",
   "id": "fcc248a5-ac73-4142-b4c2-969fee92ea1b",
   "metadata": {},
   "source": [
    "## Algunos de los lenguajes utilizados por los cientificos de datos son:\n",
    "\n",
    "1. python\n",
    "2. SQL\n",
    "3. R\n",
    "4. Julia"
   ]
  },
  {
   "cell_type": "markdown",
   "id": "9a78ed95-c0f3-4152-9a4f-572137d138e3",
   "metadata": {},
   "source": [
    "## Algunas de las bibliotecas comunmente usadas por los cientificos de datos:\n",
    "----------\n",
    "1. NumPy.\n",
    "2. Pandas.\n",
    "3. Matplotlip."
   ]
  },
  {
   "cell_type": "markdown",
   "id": "2b65b74a-6c7c-4926-9b72-b29c72a3c7a2",
   "metadata": {},
   "source": [
    "### A continuación, se presentan algunos ejemplos de evaluación de expresiones aritméticas en Python\n",
    "\n",
    "1. Suma: 3 + 5 → Resultado: 8\n",
    "2. Resta: 10 - 4  → Resultado: 6\n",
    "3. Multiplicación: 7 * 6  → Resultado: 42\n"
   ]
  },
  {
   "cell_type": "code",
   "execution_count": 10,
   "id": "6c864198-455a-4bbd-b00b-9906b0bf5e3f",
   "metadata": {},
   "outputs": [
    {
     "name": "stdout",
     "output_type": "stream",
     "text": [
      "17\n"
     ]
    }
   ],
   "source": [
    "# Esta es una expresión aritmética simple para multiplicar y luego sumar enteros.\n",
    "resultado = (3 * 4) + 5\n",
    "print(resultado)"
   ]
  },
  {
   "cell_type": "code",
   "execution_count": 9,
   "id": "1c8ce0ea-df8f-44b7-a780-7e6f4d4ac816",
   "metadata": {},
   "outputs": [
    {
     "name": "stdout",
     "output_type": "stream",
     "text": [
      "3.3333333333333335\n"
     ]
    }
   ],
   "source": [
    "# Esto convertira 200 minutos a horas dividiendo por 60.\n",
    "minutos = 200\n",
    "horas = minutos / 60\n",
    "print(horas)"
   ]
  }
 ],
 "metadata": {
  "kernelspec": {
   "display_name": "Python 3 (ipykernel)",
   "language": "python",
   "name": "python3"
  },
  "language_info": {
   "codemirror_mode": {
    "name": "ipython",
    "version": 3
   },
   "file_extension": ".py",
   "mimetype": "text/x-python",
   "name": "python",
   "nbconvert_exporter": "python",
   "pygments_lexer": "ipython3",
   "version": "3.12.8"
  }
 },
 "nbformat": 4,
 "nbformat_minor": 5
}
